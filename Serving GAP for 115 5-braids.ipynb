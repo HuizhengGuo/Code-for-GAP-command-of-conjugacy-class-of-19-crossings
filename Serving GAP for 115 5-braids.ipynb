{
 "cells": [
  {
   "cell_type": "code",
   "id": "initial_id",
   "metadata": {
    "collapsed": true,
    "ExecuteTime": {
     "end_time": "2024-10-18T22:55:48.811675Z",
     "start_time": "2024-10-18T22:55:46.213049Z"
    }
   },
   "source": [
    "# Braidword = input(\"Enter your braid word\")\n",
    "\n",
    "def process_braidword(Braidword):\n",
    "\n",
    "    Braidword = Braidword.replace(\" \", \"\")\n",
    "    \n",
    "    numbers = Braidword.split(',')\n",
    "    \n",
    "    result=\"\"\n",
    "    \n",
    "    for letter in numbers:\n",
    "            \n",
    "        if int(letter) < 0:\n",
    "            \n",
    "            number = abs(int(letter))\n",
    "            result += f\"s{number}^(-1)\"\n",
    "    \n",
    "        elif int(letter) > 0:\n",
    "\n",
    "            number = int(letter)\n",
    "            result += f\"s{number}\"\n",
    "    \n",
    "        else:\n",
    "            print(\"Invalid input\")\n",
    "            \n",
    "        result += \"*\"\n",
    "    \n",
    "    return result.rstrip('*')\n",
    "\n",
    "def Exchange(n):\n",
    "    \n",
    "    input_data = input(f\"Enter {n} braid words separated by semicolons\")\n",
    "\n",
    "    braidwords = input_data.split(';')\n",
    "    \n",
    "    results = []  # List to store all the braid words\n",
    "\n",
    "    \n",
    "    for Braidword in braidwords:\n",
    "    \n",
    "        result = process_braidword(Braidword)\n",
    "        results.append(result)\n",
    "\n",
    "  \n",
    "    return results\n",
    "\n",
    "results = Exchange(10)\n",
    "\n",
    "\n",
    "for idx, result in enumerate(results, 1):\n",
    "    \n",
    "    print(f\"w{idx}={result};\")\n",
    "    print(f\"IsConjugate( G,{result},(s2*s1^(-1)*s2*s3*s4^(-1))^4);\")\n",
    "    print(f\"IsConjugate( G,{result},(s2^(-1)*s1*s2^(-1)*s3^(-1)*s4)^4);\")"
   ],
   "outputs": [
    {
     "name": "stdout",
     "output_type": "stream",
     "text": [
      "w1=s1*s2^(-1)*s3^(-1)*s4*s3*s2^(-1)*s1*s2^(-1)*s3*s2^(-1)*s4^(-1)*s3*s2^(-1)*s1*s2^(-1)*s4^(-1)*s3*s2^(-1)*s4*s3^(-1);\n",
      "IsConjugate( G,s1*s2^(-1)*s3^(-1)*s4*s3*s2^(-1)*s1*s2^(-1)*s3*s2^(-1)*s4^(-1)*s3*s2^(-1)*s1*s2^(-1)*s4^(-1)*s3*s2^(-1)*s4*s3^(-1),(s2*s1^(-1)*s2*s3*s4^(-1))^4);\n",
      "IsConjugate( G,s1*s2^(-1)*s3^(-1)*s4*s3*s2^(-1)*s1*s2^(-1)*s3*s2^(-1)*s4^(-1)*s3*s2^(-1)*s1*s2^(-1)*s4^(-1)*s3*s2^(-1)*s4*s3^(-1),(s2^(-1)*s1*s2^(-1)*s3^(-1)*s4)^4);\n"
     ]
    }
   ],
   "execution_count": 8
  },
  {
   "metadata": {
    "ExecuteTime": {
     "end_time": "2024-09-25T03:57:35.227045Z",
     "start_time": "2024-09-25T03:57:35.218660Z"
    }
   },
   "cell_type": "code",
   "source": "",
   "id": "8f269af8bc64df2",
   "outputs": [],
   "execution_count": 48
  }
 ],
 "metadata": {
  "kernelspec": {
   "display_name": "Python 3",
   "language": "python",
   "name": "python3"
  },
  "language_info": {
   "codemirror_mode": {
    "name": "ipython",
    "version": 2
   },
   "file_extension": ".py",
   "mimetype": "text/x-python",
   "name": "python",
   "nbconvert_exporter": "python",
   "pygments_lexer": "ipython2",
   "version": "2.7.6"
  }
 },
 "nbformat": 4,
 "nbformat_minor": 5
}
